{
  "cells": [
    {
      "cell_type": "markdown",
      "metadata": {
        "id": "view-in-github",
        "colab_type": "text"
      },
      "source": [
        "<a href=\"https://colab.research.google.com/github/aislingmcgloin/Assignments/blob/main/Copy_of_HW4_Question3_BiotSavart.ipynb\" target=\"_parent\"><img src=\"https://colab.research.google.com/assets/colab-badge.svg\" alt=\"Open In Colab\"/></a>"
      ]
    },
    {
      "cell_type": "markdown",
      "source": [
        "This is part of a pilot to introduce more coding and programming elements into the Electromagnetism module. This is because many real-life problems cannot be solved analytically and instead need to be solved numerically.\n",
        "\n",
        "</br>\n",
        "\n",
        "This is *not* intended to be a test of your coding ability. I'm assuming you all have experience writing and running python code in Jupyter notebooks and / or Google Colaboratory. If this is not the case, please let me know.\n",
        "\n",
        "</br>\n",
        "\n",
        "You can run / execute Code cells by clicking into them and then typing $\\texttt{Ctrl}$+$\\texttt{Enter}$.\n",
        "\n",
        "\n",
        "</br>\n",
        "\n",
        "If you hover near the bottom of an exiting Code or Text cell it will give you the option to add a new cell. You can also insert new cells by clicking $\\texttt{Insert}$ $>$ $\\texttt{`Code cell'}$ etc.\n",
        "\n",
        "\n",
        "</br>\n",
        "\n",
        "\n",
        "\n",
        "---\n",
        "\n",
        "</br>"
      ],
      "metadata": {
        "id": "emHKG2s53mpo"
      }
    },
    {
      "cell_type": "markdown",
      "source": [],
      "metadata": {
        "id": "FFEWQMP9n-F3"
      }
    },
    {
      "cell_type": "code",
      "execution_count": 1,
      "metadata": {
        "collapsed": true,
        "id": "YHgHwJEuXZTc"
      },
      "outputs": [],
      "source": [
        "import numpy as np\n",
        "from scipy.integrate import quad"
      ]
    },
    {
      "cell_type": "code",
      "source": [
        "import matplotlib.pyplot as plt\n",
        "%matplotlib inline\n",
        "\n",
        "# Parameters for plot attributes\n",
        "plt.rc(\"xtick\", labelsize=\"large\")\n",
        "plt.rc(\"ytick\", labelsize=\"large\")\n",
        "plt.rc(\"axes\", labelsize=\"xx-large\")\n",
        "plt.rc(\"axes\", titlesize=\"xx-large\")\n",
        "plt.rc(\"figure\", figsize=(8,8))"
      ],
      "metadata": {
        "id": "CA9LnL1opHm3"
      },
      "execution_count": 2,
      "outputs": []
    },
    {
      "cell_type": "markdown",
      "metadata": {
        "collapsed": true,
        "id": "Do-rx2djXZTd"
      },
      "source": [
        "# Calculating the Magnetic Field with the Biot-Savart Law\n",
        "The magnetic field of a steady line current is given by the Biot-Savart Law (Griffiths Section 5.2.2):\n",
        "\n",
        "$$ \\vec{B}(\\vec{r})=\\frac{\\mu_{0}I}{4\\pi}\\int\\frac{\\mathrm{d}\\vec{\\ell}\n",
        "\\ '\\times\\left(\\vec{r}-\\vec{r}\\ '\\right)}{\\left\\vert \\vec{r}-\\vec{r}\\  '\\right\\vert ^{3}}. $$\n",
        "\n",
        "</br>\n",
        "\n",
        "(This looks slightly different to what we saw in the lectures, because (a) it's difficult to type-set script-r so I'm writing $ \\vec{r}-\\vec{r}\\ ' $ explicitly instead, and (b) $\\hat{x} = \\frac{\\vec{x}}{|\\vec{x}|}$ for some general vector $\\vec{x}$.)\n",
        "\n",
        "</br>\n",
        "\n",
        "\n",
        "As we saw in the lectures, we can solve this analytically for certain situations, usually when we want to find the magnetic field in some high symmetry position, e.g., at the centre or directly above the centre of a current carrying loop.  \n",
        "\n",
        "If instead we need to know the magnetic field at some arbitrary position, e.g., just off-centre, it becomes much more difficult (or impossible) to solve the integral analytically.\n",
        "In those situations we need to solve it numerically.\n",
        "\n",
        "</br>\n",
        "\n",
        "To solve the Biot-Savart law numerically, we need to discritize both the line current (indicated by the primed coordinates ($\\vec{\\ell}\\ '$ and $r\\ '$) and the location in space where we wish to calculate the magnetic field (the unprimed coordinate $r$).\n",
        "\n",
        "\n",
        "</br> In the exercises below, we will stay in Cartesian coordinates for all cases. For a line-current curve parameterized as $ \\vec{\\ell} = \\left\\lbrack x(t), y(t), z(t) \\right\\rbrack $, we can express the differential element as\n",
        "\n",
        "$$ \\mathrm{d}\\vec{\\ell} = \\left\\lbrack \\frac{\\mathrm{d}x}{\\mathrm{d}t}, \\frac{\\mathrm{d}y}{\\mathrm{d}t}, \\frac{\\mathrm{d}z}{\\mathrm{d}t} \\right\\rbrack \\mathrm{d}t. $$\n",
        "\n",
        "The parameter $t$ will run from $0$ (at the beginning point of the curve) to $1$ (at the ending point of the curve).  \n"
      ]
    },
    {
      "cell_type": "markdown",
      "source": [
        "# Magnetic field due to a current carrying circular loop."
      ],
      "metadata": {
        "id": "pWRT-XcH1DC9"
      }
    },
    {
      "cell_type": "markdown",
      "metadata": {
        "id": "6qGruBy0XZTf"
      },
      "source": [
        "For a current carrying circular loop, centred at the origin and lying in the $xy$ plane with radius $R$, convince yourself that the curve can be parameterized as:\n",
        "\n",
        "$$\n",
        "x(t) = R\\, \\mathrm{cos}(2\\, \\pi\\, t)\n",
        "$$\n",
        "$$\n",
        "y(t) = R\\, \\mathrm{sin}(2\\, \\pi\\, t)\n",
        "$$\n",
        "$$\n",
        "z(t) = 0\\qquad \\qquad\n",
        "$$\n",
        "or\n",
        "$$\n",
        "\\vec{\\ell} = (R\\, \\mathrm{cos}(2\\, \\pi\\, t), \\; R\\, \\mathrm{sin}(2\\, \\pi\\, t),\\; 0)\n",
        "$$\n",
        "\n",
        "</br>\n",
        "\n",
        "In the following exercise, take the loop to be centred at the origin in the $xy$ plane, to have a radius $R = 1$m, and to carry a current $I = 1$A.\n",
        "\n",
        "</br>\n",
        "\n",
        "$\\color{red}{{\\bf \\text{Task 1:}}}$ Start by defining the parameterized curve associated with the line current, $\\vec{\\ell}(t)$, and its derivative with respect to $t$, with $0≤t≤1$. In the cell below a different function is defined for each of the $x$-, $y$-, and $z$-components. Complete the code."
      ]
    },
    {
      "cell_type": "code",
      "execution_count": 5,
      "metadata": {
        "collapsed": true,
        "id": "BIk3QRAWXZTf"
      },
      "outputs": [],
      "source": [
        "mu0 = 1.25663706212e-6  # permeability of vacuum\n",
        "current = 1.0\n",
        "\n",
        "R = 1.0                 # Radius\n",
        "\n",
        "\n",
        "def lx(t):\n",
        "    '''x-component of vector dl'''\n",
        "    return R*np.cos(2.*np.pi*t)\n",
        "\n",
        "def ly(t):\n",
        "    '''y-component of vector dl'''\n",
        "    return R*np.sin(2.*np.pi*t)\n",
        "\n",
        "def lz(t):\n",
        "    '''z-component of vector dl'''\n",
        "    return R*0\n",
        "\n",
        "\n",
        "def dlx(t):\n",
        "    '''derivative w.r.t. t of the x-component of vector dl'''\n",
        "    return -2.*np.pi*R*np.sin(2.*np.pi*t)\n",
        "\n",
        "def dly(t):\n",
        "    '''derivative w.r.t. t of the y-component of vector dl'''\n",
        "    return 2.*np.pi*R*np.cos(2.*np.pi*t)\n",
        "\n",
        "def dlz(t):\n",
        "    '''derivative w.r.t. t of the z-component of vector dl'''\n",
        "    return 0"
      ]
    },
    {
      "cell_type": "markdown",
      "source": [
        "</br>\n",
        "\n",
        "</br>\n",
        "\n",
        "The next cell uses numpy to work out the integrand $$\\frac{\\mathrm{d}\\vec{\\ell}\n",
        "\\ '\\times\\left(\\vec{r}-\\vec{r}\\ '\\right)}{\\left\\vert \\vec{r}-\\vec{r}\\  '\\right\\vert ^{3}}$$  in the Biot-Savart Law.\n",
        "\n",
        "</br>\n",
        "\n",
        "A different function is defined to calculate the integrand in $x$, $y$ and $z$ separately to aid with numpy vectorization later. Each function takes as inputs the parameter $t$ (we will be integrating over $t$) as well as the coordinates of the point where we want to calculate the magnetic field, $r = (x, y, z)$.\n",
        "\n",
        "</br>\n",
        "\n",
        "$\\color{red}{{\\bf \\text{Task 2:}}}$ Add brief comments to the $\\texttt{integrand_x}$ function below explaining the role of key lines of code. The $\\texttt{integrand_y}$ and $\\texttt{integrand_z}$ functions are essentially identical, except for the $\\texttt{[1]}$ or $\\texttt{[2]}$. Make sure you understand what this does."
      ],
      "metadata": {
        "id": "TSiPkpJoBbtn"
      }
    },
    {
      "cell_type": "code",
      "source": [
        "def integrand_x(t, x, y, z):\n",
        "\n",
        "    ''' x component of vector integrand in Biot-Savart law.  Uses numpy to evaluate cross-product numerically '''\n",
        "    ''' script_r is the usual Griffith's notation for (r - r') '''\n",
        "\n",
        "    script_r_x = x - lx(t)\n",
        "    script_r_y = y - ly(t)\n",
        "    script_r_z = z - lz(t)\n",
        "    script_r = np.array([script_r_x,script_r_y,script_r_z])\n",
        "\n",
        "    dl = np.array([dlx(t),dly(t),dlz(t)])\n",
        "\n",
        "    magnitude_script_r = np.dot(script_r,script_r)**(1/2)\n",
        "\n",
        "    return (np.cross(dl,script_r)/magnitude_script_r**3)[0]\n",
        "\n",
        "\n",
        "\n",
        "def integrand_y(t, x, y, z):\n",
        "    '''y component of vector integrand in Biot-Savart law.  Uses numpy to evaluate cross-product numerically'''\n",
        "\n",
        "    script_r_x = x - lx(t)\n",
        "    script_r_y = y - ly(t)\n",
        "    script_r_z = z - lz(t)\n",
        "    script_r = np.array([script_r_x,script_r_y,script_r_z])\n",
        "\n",
        "    dl = np.array([dlx(t),dly(t),dlz(t)])\n",
        "\n",
        "    magnitude_script_r = np.dot(script_r,script_r)**(1/2)\n",
        "\n",
        "    return (np.cross(dl,script_r)/magnitude_script_r**3)[1]\n",
        "\n",
        "\n",
        "\n",
        "def integrand_z(t, x, y, z):\n",
        "    '''z component of vector integrand in Biot-Savart law.  Uses numpy to evaluate cross-product numerically'''\n",
        "\n",
        "    script_r_x = x - lx(t)\n",
        "    script_r_y = y - ly(t)\n",
        "    script_r_z = z - lz(t)\n",
        "    script_r = np.array([script_r_x,script_r_y,script_r_z])\n",
        "\n",
        "    dl = np.array([dlx(t),dly(t),dlz(t)])\n",
        "\n",
        "    magnitude_script_r = np.dot(script_r,script_r)**(1/2)\n",
        "\n",
        "    return (np.cross(dl,script_r)/magnitude_script_r**3)[2]"
      ],
      "metadata": {
        "id": "cViw7PmTFPy2"
      },
      "execution_count": null,
      "outputs": []
    },
    {
      "cell_type": "markdown",
      "source": [
        "</br>\n",
        "\n",
        "</br>\n",
        "\n",
        "The next cell uses Scipy's $\\texttt{integrate.quad}$ algorithm to actually do the integration and then multiply by $\\mu_0 I / 4 \\pi$.\n",
        "\n",
        "</br>\n",
        "\n",
        "Look at the beginning of the $\\texttt{integrate.quad}$ documentation page [here](https://docs.scipy.org/doc/scipy/reference/generated/scipy.integrate.quad.html) to see what parameters this function takes, and to see what it returns.\n",
        "\n",
        "</br>\n",
        "\n",
        "$\\color{red}{{\\bf \\text{Task 3:}}}$ In the empty text box below, explain briefly what $\\texttt{quad(integrand_x, 0., 1., args=(x,y,z,))[0]}$ does. That is, what are the four inputs to the function and what does the  $\\texttt{[0]}$ at the end do?"
      ],
      "metadata": {
        "id": "xkZu_gd3EPpN"
      }
    },
    {
      "cell_type": "markdown",
      "source": [
        "< your answer here>"
      ],
      "metadata": {
        "id": "Hc-_gYzFF-k9"
      }
    },
    {
      "cell_type": "code",
      "source": [
        "''' Use Scipy's integration.quad algorithm to do the integration. '''\n",
        "\n",
        "def Bx(x,y,z):\n",
        "    '''Perform integration of x-component for 0<=t<=1'''\n",
        "    return (mu0*current/(4*np.pi*R))*quad(integrand_x, 0., 1., args=(x,y,z,))[0]\n",
        "\n",
        "def By(x,y,z):\n",
        "    '''Perform integration of y-component for 0<=t<=1'''\n",
        "    return (mu0*current/(4*np.pi*R))*quad(integrand_y, 0., 1., args=(x,y,z,))[0]\n",
        "\n",
        "def Bz(x,y,z):\n",
        "    '''Perform integration of z-component for 0<=t<=1'''\n",
        "    return (mu0*current/(4*np.pi*R))*quad(integrand_z, 0., 1., args=(x,y,z,))[0]"
      ],
      "metadata": {
        "id": "UXyL7loSt_Te"
      },
      "execution_count": null,
      "outputs": []
    },
    {
      "cell_type": "markdown",
      "source": [
        "The $\\texttt{Bx}$, $\\texttt{Bx}$, and $\\texttt{Bx}$ functions above will calculate the $x$, $y$ and $z$-components of the magnetic field at a given position $r = (x,y,z)$, respectively.\n",
        "\n",
        "$\\color{red}{{\\bf \\text{Task 4:}}}$ In the code cell below, write code that uses these functions to calculate the magnetic field at the **centre** of the circular current carrying loop, i.e., at $r = (0,0,0)$. Write it in the format $B(r) = (B_x, B_y, B_z)$. Does your result agree with the analytic solution: $\\vec{B} = \\frac{\\mu_0 I}{2R}\\hat{z}$? (see Example 5.6 in Griffiths)"
      ],
      "metadata": {
        "id": "dmnDn7c2Gs6o"
      }
    },
    {
      "cell_type": "code",
      "source": [
        "\n",
        "\n",
        "# < your code here>\n",
        "\n",
        "print(\"Numerical result: B(r) = ...\")\n",
        "print(\"Analytical result: B(r) = ...\")\n"
      ],
      "metadata": {
        "colab": {
          "base_uri": "https://localhost:8080/"
        },
        "id": "zyKrD447HH3t",
        "outputId": "0ca9b622-040f-472a-ddcb-d870d45ee5ef"
      },
      "execution_count": null,
      "outputs": [
        {
          "output_type": "stream",
          "name": "stdout",
          "text": [
            "Numerical result: B(r) = ...\n",
            "Analytical result: B(r) = ...\n"
          ]
        }
      ]
    },
    {
      "cell_type": "markdown",
      "source": [
        "Rather than just calculating the magnetic field at individual points, it would be nice to calculate it at multiple positions automatically (e.g., along a line, or in an entire 2D plane).\n",
        "\n",
        "One option would be to write code to loop over different values of $r=(x,y,z)$.\n",
        "A more convenient option is to use $\\texttt{numpy.vectorize}$ to do the looping automatically. (Note: the [documentation](https://numpy.org/doc/stable/reference/generated/numpy.vectorize.html) states that \"*The vectorize function is provided primarily for convenience, not for performance. The implementation is essentially a for loop.*\" i.e., it's not actually any faster than explicitely looping, just more convenient).\n",
        "\n",
        "</br>\n",
        "\n",
        "\n",
        "$\\color{red}{{\\bf \\text{Task 5:}}}$ The code below calculates the magnetic field at all points along the $z$-axis. Edit the code to also calculate the analytic solution and plot the results on the same graph as the numerical result.\n",
        "\n",
        "The analytic solution is given by (Example 5.6 in Griffiths):\n",
        "\n",
        "$$\n",
        "\\vec{B}(z) = \\frac{\\mu_0 I}{2} \\frac{R^2}{(R^2 + z^2)^{3/2}}\\hat{z}\n",
        "$$\n"
      ],
      "metadata": {
        "id": "jJksEh7YIjMU"
      }
    },
    {
      "cell_type": "code",
      "source": [
        "# Use numpy.vectorize to create a vectorized function out of Bx, By and Bz.\n",
        "vec_Bx = np.vectorize(Bx)\n",
        "vec_By = np.vectorize(By)\n",
        "vec_Bz = np.vectorize(Bz)\n",
        "\n",
        "### Instead of evaluating the magnetic field at a single value of (x,y,z) we will now loop over multiple values of z (using the vectorized functions)\n",
        "\n",
        "z = np.linspace(-4, 4, 101)   # Define points along the z-axis where we will calculate the magnetic field.\n",
        "\n",
        "Bx_component = vec_Bx(0,0,z)  # Calculate the x-component of the magnetic field at positions along the z-axis.\n",
        "By_component = vec_By(0,0,z)  # Calculate the y-component of the magnetic field at positions along the z-axis.\n",
        "Bz_component = vec_Bz(0,0,z)  # Calculate the z-component of the magnetic field at positions along the z-axis.\n",
        "\n",
        "\n",
        "analytic_Bz = # < your code here to calculate the analytic solution >\n",
        "\n",
        "plt.plot(z, analytic_Bz, label='Analytical Result')\n",
        "plt.scatter(z,Bz_component, label='Numerical Result')\n",
        "plt.xlabel(\"$z$ (m)\")\n",
        "plt.ylabel(\"$B_z$ (T)\")\n",
        "plt.legend()"
      ],
      "metadata": {
        "id": "_NEvmzN_wUJU"
      },
      "execution_count": null,
      "outputs": []
    },
    {
      "cell_type": "markdown",
      "source": [
        "\n",
        "Once you are confident that the numeric solution agrees with the analytic solution for points $r=(0,0,z)$, we can calculate the magnetic field at point away from this high-symmetry direction, e.g., at $r=(0.2, 0, z)$ or $r=(x, 0, 2.0)$.\n",
        "\n",
        "</br>\n",
        "\n",
        "$\\color{red}{{\\bf \\text{Task 6:}}}$ In the code cell below, calculate the magnetic field along a line in some direction *other* than $r=(0,0,z)$ (your choice). In a text cell below that, describe what the graph shows."
      ],
      "metadata": {
        "id": "oTHOFw8Yv1PJ"
      }
    },
    {
      "cell_type": "code",
      "source": [
        "# < your code here - you may copy and paste as much code from above as you need.>"
      ],
      "metadata": {
        "id": "6RUZIzcdkRy6"
      },
      "execution_count": null,
      "outputs": []
    },
    {
      "cell_type": "markdown",
      "source": [
        "< Explain here - in words - what your graph shows and comment on whether or not it agrees with what you would have expected for your chosen values of $r$ >\n",
        "\n",
        "\n",
        "---"
      ],
      "metadata": {
        "id": "ZdrxkTAkkbrK"
      }
    },
    {
      "cell_type": "markdown",
      "source": [
        "We can now use $\\texttt{numpy.meshgrid}$ to plot the magnetic field in two-dimensions (2D) instead of just along a single line. Let's plot the magnetic field in the $xz$-plane. We will again use the vectorized functions to perform the loops required."
      ],
      "metadata": {
        "id": "MoUaPMhak-X6"
      }
    },
    {
      "cell_type": "code",
      "source": [
        "# set up plotting grids\n",
        "# Using 35 points in each direction means it can take ~ 1min to run.\n",
        "x = np.linspace(-4, 4, 35)\n",
        "z = np.linspace(-4, 4, 35)\n",
        "\n",
        "X, Z = np.meshgrid(x,z)\n",
        "\n",
        "\n",
        "U = np.zeros(np.shape(X))\n",
        "W = np.zeros(np.shape(X))\n",
        "\n",
        "U, W = vec_Bx(X,0,Z), vec_Bz(X,0,Z)"
      ],
      "metadata": {
        "id": "ym-8dRU6ZdoC"
      },
      "execution_count": null,
      "outputs": []
    },
    {
      "cell_type": "markdown",
      "source": [
        "We can view the direction of the magnetic field in 2D using $\\texttt{matplotlib.pyplot.streamplot}$ (Documentation and examples [here](https://matplotlib.org/stable/api/_as_gen/matplotlib.pyplot.streamplot.html)).\n",
        "\n"
      ],
      "metadata": {
        "id": "Bd37xZf2nH9O"
      }
    },
    {
      "cell_type": "code",
      "source": [
        "fig, ax = plt.subplots()\n",
        "ax.streamplot(X, Z, U, W, density=2, color='black')\n",
        "\n",
        "ax.plot([-R, R], [0, 0], linestyle='-', linewidth=4, color='tomato')   # Side view of circular line current (as we are plotting $x-z$).\n",
        "\n",
        "#circle = plt.Circle((0, 0), radius=R, fill=False, facecolor='none', edgecolor='black', linewidth=4)\n",
        "#ax.add_patch(circle)\n",
        "\n",
        "\n",
        "plt.axis('equal')\n",
        "plt.ylim(-4,4)\n",
        "plt.xlabel(\"$x$ (m)\")\n",
        "plt.ylabel(\"$z$ (m)\")\n",
        "plt.title(\"Magnetic Field Lines for a Circular Loop\")"
      ],
      "metadata": {
        "id": "U4-jHDqrliOP"
      },
      "execution_count": null,
      "outputs": []
    },
    {
      "cell_type": "markdown",
      "source": [
        "Those paying close attention might have noticed something unexpected or even *wrong* in the above plot: We usually expect that the density of field lines at a point tells us something about the magnitude of the field at that point. In the above plot, we should be expecting that the density of magnetic field-lines would decrease as we move futher way from the line current.\n",
        "\n",
        "Unfortunately, $\\texttt{plt.streamplot}$ is not able to do this - it can just tell us about the direction of the field-lines. If we want to get information about the magnitude of the field in a 2D plot like this, we'll have to come up with another solution / use a countour plot / etc. For now, it's good enough."
      ],
      "metadata": {
        "id": "-kc-sFpgwVCS"
      }
    },
    {
      "cell_type": "markdown",
      "source": [
        "\n",
        "\n",
        "# Bonus Question \\[5 marks\\]\n",
        "# Magnetic field due to a helical wire (~ solenoid).\n",
        "\n",
        "\n",
        "*Note: Completing the remainder of this notebook (question based on the solenoid) will allow you to increased your grade for this homework by 5 marks (up to a maximum of 100 marks total, i.e., it will allow you to compensate for marks lost elsewhere).*\n",
        "\n",
        "\n"
      ],
      "metadata": {
        "id": "zeY37TpeFvYp"
      }
    },
    {
      "cell_type": "markdown",
      "source": [
        "Let's use the above code to calculate the magnetic field due to another wire geometry - this time a helical wire of radius $R$, height $L$, and having $N$ turns (~ a solenoid).\n",
        "\n",
        "It can be parameterized by:\n",
        "\n",
        "$$ x(t) = R \\cos\\left( 2\\pi N\\,t \\right), $$\n",
        "\n",
        "$$ y(t) = R \\sin\\left( 2\\pi N\\,t \\right), $$\n",
        "\n",
        "$$ z(t) = Lt - \\frac{1}{2}L. $$\n",
        "\n",
        "Take $R=1$, $N=80$, and $L=2$.\n",
        "\n",
        "$\\color{red}{{\\bf \\text{Task 7 (Optional!):}}}$ Copying and pasting and editing as much code as you need from ealier, use $\\texttt{plt.streamplot}$ to show the direction of the magnetic field lines due to the helical wire in the $x-z$ plane.  \n",
        "\n",
        "You may find\n",
        "$\\texttt{square = plt.Rectangle((-R, -L/2), width=2*R, height=L, angle=0.0, fill=False, facecolor='none', edgecolor='black', linewidth=2)}$ useful when plotting to show the location of the helical wire."
      ],
      "metadata": {
        "id": "cjrYjp_FCxVl"
      }
    },
    {
      "cell_type": "code",
      "source": [
        "R = 1.0                 # Radius of circular line current\n",
        "L = 4.0                 # Side length of square line current\n",
        "N = 80                  # Number of turns in solenoid\n",
        "\n",
        "\n",
        "### For a circle\n",
        "def lx(t):\n",
        "    '''x-component of vector dl'''\n",
        "    return # < your code here >\n",
        "\n",
        "def ly(t):\n",
        "    '''y-component of vector dl'''\n",
        "    return # < your code here >\n",
        "\n",
        "def lz(t):\n",
        "    '''z-component of vector dl'''\n",
        "    return # < your code here >\n",
        "\n",
        "\n",
        "def dlx(t):\n",
        "    '''derivative w.r.t. t of the x-component of vector dl'''\n",
        "    return # < your code here >\n",
        "\n",
        "def dly(t):\n",
        "    '''derivative w.r.t. t of the y-component of vector dl'''\n",
        "    return # < your code here >\n",
        "\n",
        "def dlz(t):\n",
        "    '''derivative w.r.t. t of the z-component of vector dl'''\n",
        "    return # < your code here >"
      ],
      "metadata": {
        "id": "Cq8dWBku7Hgu"
      },
      "execution_count": null,
      "outputs": []
    },
    {
      "cell_type": "code",
      "source": [
        "# < continue your code here. You should be able to copy and paste much of the code used for the circular loop.>"
      ],
      "metadata": {
        "id": "loKiTtzt80uk"
      },
      "execution_count": null,
      "outputs": []
    }
  ],
  "metadata": {
    "colab": {
      "provenance": [],
      "include_colab_link": true
    },
    "kernelspec": {
      "display_name": "Python 3",
      "language": "python",
      "name": "python3"
    },
    "language_info": {
      "codemirror_mode": {
        "name": "ipython",
        "version": 3
      },
      "file_extension": ".py",
      "mimetype": "text/x-python",
      "name": "python",
      "nbconvert_exporter": "python",
      "pygments_lexer": "ipython3",
      "version": "3.4.4"
    }
  },
  "nbformat": 4,
  "nbformat_minor": 0
}